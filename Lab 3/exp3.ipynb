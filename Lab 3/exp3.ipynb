{
  "nbformat": 4,
  "nbformat_minor": 0,
  "metadata": {
    "colab": {
      "name": "exp3.ipynb",
      "provenance": []
    },
    "kernelspec": {
      "name": "python3",
      "display_name": "Python 3"
    },
    "language_info": {
      "name": "python"
    }
  },
  "cells": [
    {
      "cell_type": "code",
      "source": [
        "!pip install ndjson"
      ],
      "metadata": {
        "colab": {
          "base_uri": "https://localhost:8080/"
        },
        "id": "aXZQmTW8Eka4",
        "outputId": "a819ccc2-2a67-4386-c1a1-0414d38c0102"
      },
      "execution_count": 34,
      "outputs": [
        {
          "output_type": "stream",
          "name": "stdout",
          "text": [
            "Requirement already satisfied: ndjson in /usr/local/lib/python3.7/dist-packages (0.3.1)\n"
          ]
        }
      ]
    },
    {
      "cell_type": "code",
      "source": [
        "import ndjson\n",
        "import re\n",
        "from collections import defaultdict\n",
        "from nltk.stem.porter import PorterStemmer\n",
        "porter = PorterStemmer()\n",
        "import pandas as pd"
      ],
      "metadata": {
        "id": "3kWPgfMNElMg"
      },
      "execution_count": 35,
      "outputs": []
    },
    {
      "cell_type": "code",
      "execution_count": 36,
      "metadata": {
        "colab": {
          "base_uri": "https://localhost:8080/"
        },
        "id": "VDxgy-tuEdt_",
        "outputId": "f09b54c6-7cf2-45f5-d102-cfa505315904"
      },
      "outputs": [
        {
          "output_type": "stream",
          "name": "stdout",
          "text": [
            "Drive already mounted at /content/drive; to attempt to forcibly remount, call drive.mount(\"/content/drive\", force_remount=True).\n"
          ]
        }
      ],
      "source": [
        "from google.colab import drive\n",
        "drive.mount('/content/drive')"
      ]
    },
    {
      "cell_type": "code",
      "source": [
        "term_doc_index = {}\n",
        "with open('/content/drive/MyDrive/merged.txt') as f:\n",
        "  next(f)\n",
        "  for line in f:\n",
        "    word, *docs = line.strip().split(' ')\n",
        "    term_doc_index[word] = tuple(docs)"
      ],
      "metadata": {
        "id": "dx4_i1ohEi4_"
      },
      "execution_count": 37,
      "outputs": []
    },
    {
      "cell_type": "code",
      "source": [
        "doc_id_to_title = {}\n",
        "shelf_to_title = defaultdict(list)\n",
        "i=0\n",
        "\n",
        "f = open('/content/drive/MyDrive/cran_experiment.ndjson')\n",
        "data_file = ndjson.reader(f)\n",
        "for doc in data_file:\n",
        "    title = doc[\"title\"] \n",
        "    author = doc[\"author\"]\n",
        "    id=doc[\"id\"] \n",
        "    meta = doc[\"meta\"]\n",
        "    data = doc[\"data\"]\n",
        "    i += 1\n",
        "    doc_id_to_title[int(id)] = title"
      ],
      "metadata": {
        "id": "VQqSLgEgEyeo"
      },
      "execution_count": 38,
      "outputs": []
    },
    {
      "cell_type": "code",
      "source": [
        "doc_id_to_title[int(33)]"
      ],
      "metadata": {
        "colab": {
          "base_uri": "https://localhost:8080/",
          "height": 35
        },
        "id": "351E5GP37yQT",
        "outputId": "323d7ef5-aa87-4e4e-ddb9-a550e5014f10"
      },
      "execution_count": 53,
      "outputs": [
        {
          "output_type": "execute_result",
          "data": {
            "application/vnd.google.colaboratory.intrinsic+json": {
              "type": "string"
            },
            "text/plain": [
              "'the prospects for magneto-aerodynamics .'"
            ]
          },
          "metadata": {},
          "execution_count": 53
        }
      ]
    },
    {
      "cell_type": "code",
      "source": [
        "def remove_symbols(line):\n",
        "    return re.sub('[^A-Za-z0-9\\s]+', '', line).lower()\n",
        "def preprocess_term(term, stem=1):\n",
        "    term = term.lower()\n",
        "    #condition of with/without stemming\n",
        "    return remove_symbols(word) if not stem else remove_symbols(porter.stem(term))\n",
        "preprocess_term('satisfaction')"
      ],
      "metadata": {
        "colab": {
          "base_uri": "https://localhost:8080/",
          "height": 35
        },
        "id": "4RDIcfsEFFSm",
        "outputId": "fe2818e4-854c-4289-d5ee-bf36aabe367d"
      },
      "execution_count": 39,
      "outputs": [
        {
          "output_type": "execute_result",
          "data": {
            "application/vnd.google.colaboratory.intrinsic+json": {
              "type": "string"
            },
            "text/plain": [
              "'satisfact'"
            ]
          },
          "metadata": {},
          "execution_count": 39
        }
      ]
    },
    {
      "cell_type": "code",
      "source": [
        "#query method for quering documents\n",
        "def query(include=[], dont_include=[]):\n",
        "  all_doc_ids = set()\n",
        "  for term in include:\n",
        "    term = preprocess_term(term)\n",
        "    docs = term_doc_index.get(term, [])\n",
        "    #if there is atleast one doc in all_doc_ids\n",
        "    if all_doc_ids:\n",
        "        #if the doc has ALL THE WORDS\n",
        "        all_doc_ids.intersection_update(set(docs))\n",
        "    #if doc has no word\n",
        "    else:\n",
        "        all_doc_ids.update(set(docs))\n",
        "    #if all_doc_ids is empty, stop executing this method\n",
        "    if not all_doc_ids:\n",
        "        break\n",
        "#   all_doc_ids = [int(i.replace('(','').replace(',)','')) for i in all_doc_ids]  \n",
        "#   print(\"ALL DOCS:\\n\", type(list(all_doc_ids)[0]))\n",
        "  complement_docs = set()\n",
        "  for term in dont_include:\n",
        "    term = preprocess_term(term)\n",
        "    docs = term_doc_index.get(term, [])\n",
        "    complement_docs.update(set(docs))\n",
        "    #if there is atleast one doc in complement_docs\n",
        "    if complement_docs:\n",
        "        # removing the docs which have all terms which we dont want\n",
        "        set(all_doc_ids).difference_update(set(docs))\n",
        "        doc_titles = [doc_id_to_title[int(i)] for i in all_doc_ids]\n",
        "        # print([(i, type(i)) for i in all_doc_ids if not isinstance(i, str)])\n",
        "        # print(doc_id_to_title)\n",
        "    #returning the doc titles as per the query\n",
        "    # return all_doc_ids\n",
        "    # break\n",
        "    return doc_titles\n",
        "\n",
        "d = query(include=['flow', 'field'], dont_include=['transient'])"
      ],
      "metadata": {
        "id": "9ronrX0BFIxP"
      },
      "execution_count": 63,
      "outputs": []
    },
    {
      "cell_type": "code",
      "source": [
        "d"
      ],
      "metadata": {
        "colab": {
          "base_uri": "https://localhost:8080/"
        },
        "id": "Ga7DrZB77Yi9",
        "outputId": "4e987de6-2d35-4123-9273-ce63a48ed933"
      },
      "execution_count": 64,
      "outputs": [
        {
          "output_type": "execute_result",
          "data": {
            "text/plain": [
              "['the prospects for magneto-aerodynamics .',\n",
              " 'similitude of hypersonic real-gas flows over slender\\nbodies with blunted noses .',\n",
              " 'a theory of asymmetric hypersonic blunt-body flows .',\n",
              " 'the law of the wake in the turbulent boundary layer .',\n",
              " 'the 7 in. x 7 in. hypersonic wind tunnel at r.a.e., farnborough\\npart iii - calibration of the flow in the working section .',\n",
              " 'a method of calculating the short period longitudinal\\nstability derivatives of a wing in linearised unsteady\\ncompressible flow .',\n",
              " 'quasi-cylindrical surfaces with prescribed loadings\\nin the linearised theory of supersonic flow .',\n",
              " 'use of local similarity concepts in hypersonic viscous\\ninteraction problems .',\n",
              " 'note on tip-bluntness effects in the supersonic and\\nhypersonic regimes .',\n",
              " 'wakes in axial compressors .',\n",
              " 'compressibility effects in magneto-aerodynamic flows\\npast thin bodies .',\n",
              " 'the flow field over blunted flat plates and its effect\\non turbulent boundary growth and heat transfer at a\\nmach number of 4. 7.',\n",
              " 'the production of aerodynamic forces by heat addition\\non external surfaces of aircraft .',\n",
              " 'stationary convection flow of an electrically conducting\\nliquid between parallel plates in a magnetic field .',\n",
              " 'the flow field in the diffuser of a radial compressor .',\n",
              " 'the extent of the jet interference flow fields .\\njet effects on cylindrical afterbodies housing sonic and supersonic\\nnozzles which exhaust against a supersonic stream at angles of attack\\nfrom 90degree to 180degree .',\n",
              " 'the supersonic blunt body problem - review and extensions .',\n",
              " 'shroud design for simulating hypersonic flow over the nose of a\\nhemisphere .',\n",
              " 'inviscid hypersonic flow past blunt bodies .',\n",
              " 'the flow about a moving body in the upper ionosphere .',\n",
              " 'the hall effect in the viscous flow of ionized gas\\nbetween parallel plates under transverse magnetic field .',\n",
              " 'an analytic extension of the shock-expansion method .',\n",
              " 'the fundamental solution for small steady three dimensional\\ndisturbances to a two dimensional parallel shear flow .',\n",
              " 'magnetohydrodynamic free-convection pipe flow .',\n",
              " 'on a laminar free-convection flow and heat transfer\\nof electrically conducting fluid on a vertical flat\\nplate in the presence of a transverse magnetic field .',\n",
              " 'interferometric studies of supersonic flows about truncated\\ncones .',\n",
              " 'the stagnation point boundary layer in the presence\\nof an applied magnetic field .',\n",
              " 'a numerical comparison between exact and approximate\\ntheories of hypersonic inviscid flow past slender blunt\\nnosed bodies .',\n",
              " 'steady flow of conducting fluids in channels under\\ntransverse magnetic fields, with consideration of hall\\neffect .',\n",
              " 'inviscid flow with nonequilibrium molecular dissociation for pressure\\ndistributions encountered in hypersonic flight .',\n",
              " 'generalized conical flow fields in supersonic wing theory .',\n",
              " 'viscous flow along a flat plate moving at high speeds .',\n",
              " 'steady and transient free convection of an electrically\\nconducting fluid from a vertical plate in the presence\\nof a magnetic field .',\n",
              " 'some effects of injection of foreign gases in a decelerating\\nlaminar boundary layer in supersonic flow .',\n",
              " 'three dimensional viscous wakes .',\n",
              " 'hypersonic flows past a yawed circular cone and other\\npointed bodies .',\n",
              " 'incompressible wedge flows of an electrically conducting\\nviscous fluid in the presence of a magnetic field .',\n",
              " 'some physical interpretations of magnetohydrodynamic duct flows .',\n",
              " 'effects of free stream vorticity on the behaviour of\\na viscous boundary layer .',\n",
              " 'steady motion of conducting fluids in pipes under transverse\\nmagnetic fields .',\n",
              " 'recent advances in nonequilibrium dissociating gasdynamics .',\n",
              " 'effect of ground proximity on the aerodynamic characteristics\\nof a four- engined vertical take-off and landing transport\\nairplane model with tilting wing and propellers .',\n",
              " 'leading-edge separation of laminar boundary layers\\nin supersonic flow .',\n",
              " 'a study of flow fields about some typical blunt-nosed\\nslender bodies .',\n",
              " 'navier-stokes solutions at large distances from a finite body .',\n",
              " 'theoretical investigation of the flow field about blunt\\nnosed bodies in supersonic flight .',\n",
              " 'the quasi-cylinder of specified thickness and shell\\nloading in supersonic flow .',\n",
              " 'an approximate solution for the axisymmetric jet of a laminar\\ncompressible fluid .',\n",
              " 'axisymmetric magnetohydrodynamic channel flow .',\n",
              " 'a new technique for investigating heat transfer and\\nsurface phenomena under hypersonic flow conditions .',\n",
              " 'body under lifting wing .',\n",
              " 'the curtain jet .',\n",
              " 'hypersonic viscous flow over slender cones .',\n",
              " 'effect of diffusion fields on the laminar boundary\\nlayer .',\n",
              " 'on source and vortex distributions in the linearised\\ntheory of steady supersonic flow .',\n",
              " 'an investigation of the effect of downwash from a vtol\\naircraft and a helicopter in the ground environment .',\n",
              " 'base pressure in supersonic flow .',\n",
              " 'on magnetohydrodynamic shock waves .',\n",
              " 'a study of laminar compressible viscous pipe flow accelerated by an\\naxial body force, with application to magnetogasdynamics .',\n",
              " 'several magnetohydrodynamic free-convection solutions .',\n",
              " 'the occurrence and development of boundary layer separations at high\\nincidences and high speeds .',\n",
              " 'magnetohydrodynamic effects on the formation of couette,\\nflow .',\n",
              " 'steady magnetohydrodynamic flow past a non-conducting\\nwedge .',\n",
              " 'on the plk method and the supersonic blunt-body problem .',\n",
              " 'an investigation of interference effects on similar models of\\ndifferent size in various transonic tunnels in the u.k. .',\n",
              " 'transient magnetohydrodynamic duct flow .',\n",
              " 'magnetohydrodynamics shocks .',\n",
              " 'the flow about a charged body moving in the lower atmosphere .',\n",
              " 'variational analysis of ablation .',\n",
              " 'research on unsteady flow .',\n",
              " 'hypersonic viscous flow near the stagnation point in\\nthe presence of magnetic field .',\n",
              " 'approximate analytical solutions for hypersonic flow\\npast slender power-law bodies .',\n",
              " 'calculation of the flow past slender delta wings with\\nleading edge separation .',\n",
              " 'further developments of new methods in heat flow analysis .',\n",
              " 'the transition to tubulence in a boundary layer on\\na blunt cone in supersonic flow .',\n",
              " 'a theoretical analysis of heat transfer in regions of separated flow .',\n",
              " 'an experimental study of the flow field about swept and delta wings\\nwith sharp leading edges .',\n",
              " 'viscous and inviscid nonequilibrium gas flows .',\n",
              " 'theoretical pressure distribution on a hemisphere-cylinder\\ncombination .',\n",
              " 'new methods in heat flow analysis with application\\nto flight structures .',\n",
              " 'magnetohydrodynamic flow past a thin airfoil .',\n",
              " 'constant-temperature magneto-gasdynamic channel flow .',\n",
              " 'direct calculation of pressure distribution on blunt\\nhypersonic nose shapes with sharp corners .',\n",
              " 'theory for supersonic two-dimensional, laminar, base-type\\nflows using the crocco-lees mixing concepts .',\n",
              " 'propagation of weak disturbances in a gas subject to\\nrelaxation effects .',\n",
              " 'on combined free and forced convection laminar magnetohydrodynamic\\nflow and heat transfer in channels with transverse\\nmagnetic field .',\n",
              " 'application of two dimensional vortex theory to the\\nprediction of flow fields behind wings of wing-body\\ncombinations at subsonic and supersonic speeds .',\n",
              " 'interference between the wings and tail plane of a\\nslender wing-body tailplane combination .',\n",
              " 'on trails of axisymmetric hypersonic blunt bodies flying\\nthrough the atmosphere .',\n",
              " 'the newtonian approximation in magnetic hypersonic\\nstagnation-point flow .',\n",
              " 'lagrangian thermodynamics of heat transfer in systems\\nincluding fluid motion .',\n",
              " 'joule heating in magnetohydrodynamic free-convection\\nflows .',\n",
              " 'some features of supersonic and hypersonic flow about\\nblunted cones .',\n",
              " 'an investigation of the pressure distribution on conical bodies in\\nhypersonic flows .',\n",
              " 'interference between the wings and tail surfaces of\\na combination of slender body, cruciform wings and\\ncruciform tail set at both incidence and yaw .',\n",
              " 'static aerodynamic characteristics of a short blunt\\n10 semi-vertex angle cone at a mach number of 15 in\\nhelium .',\n",
              " 'a study of inviscid flow about air foils at high supersonic\\nspeeds .',\n",
              " 'magnetohydrodynamic flow past a semi-infinite plate .',\n",
              " 'mass transfer cooling of a laminary boundary layer\\nby injection of a light weight foreign gas .',\n",
              " 'inviscid hypersonic flow over blunt-nosed slender bodies .',\n",
              " 'concerning some solutions of the boundary layer equations\\nin hydrodynamics .',\n",
              " 'the generalized expansion method and its application\\nto bodies travelling at high supersonic airspeeds .',\n",
              " 'a study of vortex cancellation .',\n",
              " 'aerodynamic processes in the downwash-impingement problem .',\n",
              " 'the effect of controlled three-dimensional roughness\\non boundary layer transition at supersonic speeds .',\n",
              " 'a note on the explosion solution of sedov with application\\nto the newtonian theory of unsteady hypersonic flow .',\n",
              " 'approximate analysis of the slot injection of a gas\\nin laminar flow .',\n",
              " 'duct flow in magnetohydrodynamics .',\n",
              " 'shock wave and flow field development in hypersonic re-entry .',\n",
              " 'unsteady oblique interaction of a shock wave with plane\\ndisturbances .',\n",
              " 'flow past slender blunt bodies - a review and extension .',\n",
              " 'a theory for the core of a leading edge vortex .',\n",
              " 'an investigation of separated flows, part i: the pressure\\nfield .',\n",
              " 'estimation forces and moments due to rolling for several\\nslender tail configurations at supersonic speeds .',\n",
              " 'nonequilibrium flow past a wedge .',\n",
              " 'numerical solutions for supersonic flow of an ideal\\ngas around blunt two-dimensional bodies .',\n",
              " 'secondary flow fields embedded in hypersonic shock\\nlayers .',\n",
              " 'the blunt-leading-edge problem in hypersonic flow .',\n",
              " 'similitude of hypersonic flows over slender bodies\\nin non-equilibrium dissociated gases .',\n",
              " 'on flow of electrically conducting fluids over a flat\\nplate in the presence of a transverse magnetic field .',\n",
              " 'exact solution of the neumann problem . calculation\\nfor non- circulatory plane and axially symmetric flows\\nabout or within arbitrary boundaries .',\n",
              " 'a new series for calculation of steady laminar boundary\\nlayer flows .',\n",
              " 'transition in the viscous wakes of blunt bodies at\\nhypersonic speeds .',\n",
              " 'compressible flat-plate boundary-layer flow with an\\napplied magnetic field .']"
            ]
          },
          "metadata": {},
          "execution_count": 64
        }
      ]
    }
  ]
}