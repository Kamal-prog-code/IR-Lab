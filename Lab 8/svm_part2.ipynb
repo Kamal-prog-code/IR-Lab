{
  "nbformat": 4,
  "nbformat_minor": 0,
  "metadata": {
    "colab": {
      "name": "svm_part2.ipynb",
      "provenance": [],
      "collapsed_sections": []
    },
    "kernelspec": {
      "name": "python3",
      "display_name": "Python 3"
    },
    "language_info": {
      "name": "python"
    }
  },
  "cells": [
    {
      "cell_type": "code",
      "execution_count": null,
      "metadata": {
        "colab": {
          "base_uri": "https://localhost:8080/"
        },
        "id": "qNRRwPxAObio",
        "outputId": "4c658117-c226-4f36-ab39-d8d32934ba5f"
      },
      "outputs": [
        {
          "output_type": "stream",
          "name": "stdout",
          "text": [
            "*** Naive Bayes Model ***\n",
            "Newsgroup Categories :  ['alt.atheism', 'soc.religion.christian', 'comp.graphics', 'sci.med']\n",
            "Accuracy : 83.48868175765645%\n",
            "                        precision    recall  f1-score   support\n",
            "\n",
            "           alt.atheism       0.97      0.60      0.74       319\n",
            "         comp.graphics       0.96      0.89      0.92       389\n",
            "               sci.med       0.97      0.81      0.88       396\n",
            "soc.religion.christian       0.65      0.99      0.78       398\n",
            "\n",
            "              accuracy                           0.83      1502\n",
            "             macro avg       0.89      0.82      0.83      1502\n",
            "          weighted avg       0.88      0.83      0.84      1502\n",
            "\n",
            "Confusion Matrix : \n",
            " [[192   2   6 119]\n",
            " [  2 347   4  36]\n",
            " [  2  11 322  61]\n",
            " [  2   2   1 393]]\n",
            "*** SVM Model ***\n",
            "Newsgroup Categories :  ['alt.atheism', 'soc.religion.christian', 'comp.graphics', 'sci.med']\n",
            "Accuracy : 91.14513981358189%\n",
            "                        precision    recall  f1-score   support\n",
            "\n",
            "           alt.atheism       0.95      0.81      0.88       319\n",
            "         comp.graphics       0.87      0.98      0.92       389\n",
            "               sci.med       0.96      0.88      0.92       396\n",
            "soc.religion.christian       0.89      0.96      0.92       398\n",
            "\n",
            "              accuracy                           0.91      1502\n",
            "             macro avg       0.92      0.91      0.91      1502\n",
            "          weighted avg       0.92      0.91      0.91      1502\n",
            "\n",
            "Confusion Matrix : \n",
            " [[259  10  12  38]\n",
            " [  3 380   2   4]\n",
            " [  6  36 349   5]\n",
            " [  5  10   2 381]]\n",
            "*** SVM Model ***\n",
            "Newsgroup Categories :  ['comp.graphics', 'rec.motorcycles', 'sci.med', 'sci.electronics']\n",
            "Accuracy : 93.1472081218274%\n",
            "                 precision    recall  f1-score   support\n",
            "\n",
            "  comp.graphics       0.90      0.94      0.92       389\n",
            "rec.motorcycles       0.95      0.99      0.97       398\n",
            "sci.electronics       0.92      0.89      0.90       393\n",
            "        sci.med       0.96      0.91      0.94       396\n",
            "\n",
            "       accuracy                           0.93      1576\n",
            "      macro avg       0.93      0.93      0.93      1576\n",
            "   weighted avg       0.93      0.93      0.93      1576\n",
            "\n",
            "Confusion Matrix : \n",
            " [[364   3  16   6]\n",
            " [  2 394   2   0]\n",
            " [ 26  10 348   9]\n",
            " [ 14   7  13 362]]\n"
          ]
        }
      ],
      "source": [
        "from sklearn.datasets import fetch_20newsgroups\n",
        "from sklearn.feature_extraction.text import CountVectorizer\n",
        "from sklearn.feature_extraction.text import TfidfTransformer\n",
        "from sklearn.naive_bayes import MultinomialNB\n",
        "from sklearn.linear_model import SGDClassifier\n",
        "from sklearn.pipeline import Pipeline\n",
        "from sklearn import metrics\n",
        "import numpy as np\n",
        "\n",
        " \n",
        "    \n",
        "\n",
        "def SVM(categories):\n",
        "    \n",
        "    twenty_train = fetch_20newsgroups(subset='train',categories=categories, shuffle=True, random_state=42)\n",
        "\n",
        "    \n",
        "    text_clf = Pipeline([('vect', CountVectorizer()),('tfidf', TfidfTransformer()),('clf', SGDClassifier(loss='hinge', penalty='l2',alpha=1e-3, random_state=42))])\n",
        "    _ = text_clf.fit(twenty_train.data, twenty_train.target)\n",
        "\n",
        "    # evaluate on test set\n",
        "    twenty_test = fetch_20newsgroups(subset='test',categories=categories, shuffle=True, random_state=42)\n",
        "    predicted = text_clf.predict(twenty_test.data)\n",
        "    print(\"*** SVM Model ***\")\n",
        "    print(\"Newsgroup Categories : \", categories )\n",
        "    print(\"Accuracy : {}%\".format(np.mean(predicted == twenty_test.target)*100)) \n",
        "    print(metrics.classification_report(twenty_test.target, predicted, target_names=twenty_test.target_names))\n",
        "    print(\"Confusion Matrix : \\n\", metrics.confusion_matrix(twenty_test.target, predicted))\n",
        "\n",
        "    \n",
        "# selected categories\n",
        "categories=['sci.med','sci.space','sci.electronics']\n",
        "NBModel(categories)\n",
        "SVM(categories)\n",
        "\n",
        "SVM(categories)"
      ]
    }
  ]
}