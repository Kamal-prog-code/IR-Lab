{
 "cells": [
  {
   "cell_type": "code",
   "execution_count": 1,
   "id": "63bcd0f6",
   "metadata": {},
   "outputs": [],
   "source": [
    "from nltk.corpus import stopwords\n",
    "import nltk\n",
    "from collections import defaultdict\n",
    "import re\n",
    "from nltk.stem.porter import PorterStemmer\n",
    "import heapq\n",
    "import json\n",
    "import gc\n",
    "porter = PorterStemmer()"
   ]
  },
  {
   "cell_type": "code",
   "execution_count": 2,
   "id": "ee011201",
   "metadata": {},
   "outputs": [],
   "source": [
    "stop_words = stopwords.words('english')"
   ]
  },
  {
   "cell_type": "code",
   "execution_count": 3,
   "id": "cf1b92f4",
   "metadata": {},
   "outputs": [],
   "source": [
    "def remove_symbols(line):\n",
    "    return re.sub('[^A-Za-z0-9\\s]+', '', line).lower()\n",
    "\n",
    "class SetEncoder(json.JSONEncoder):\n",
    "    def default(self, obj):\n",
    "        if isinstance(obj, set):\n",
    "            return list(obj)\n",
    "        return json.JSONEncoder.default(self, obj)"
   ]
  },
  {
   "cell_type": "code",
   "execution_count": 4,
   "id": "b1ffb755",
   "metadata": {},
   "outputs": [],
   "source": [
    "BLOCK_SIZE = 10000"
   ]
  },
  {
   "cell_type": "code",
   "execution_count": 5,
   "id": "7b6b4166",
   "metadata": {},
   "outputs": [
    {
     "name": "stdout",
     "output_type": "stream",
     "text": [
      "124  rows done\n",
      "240  rows done\n",
      "373  rows done\n",
      "522  rows done\n",
      "655  rows done\n",
      "784  rows done\n",
      "923  rows done\n",
      "1061  rows done\n",
      "1202  rows done\n",
      "1320  rows done\n"
     ]
    }
   ],
   "source": [
    "def bsbi():\n",
    "    freq_dict = defaultdict(dict)\n",
    "    total_files = 0\n",
    "    i = 0\n",
    "    current_block = 0\n",
    "    corpus_size=0\n",
    "    for doc in json.load(open('cran_data.json')):\n",
    "        title = doc[\"title\"] \n",
    "        author = doc[\"author\"] \n",
    "        id=doc[\"id\"] \n",
    "        bookshelf=doc[\"bibliography\"] \n",
    "        text =doc[\"body\"]\n",
    "        i += 1\n",
    "        corpus_size+=1\n",
    "        \n",
    "        for word in text.split(\" \"):\n",
    "            word_count = text.count(word)\n",
    "            word = remove_symbols(word)\n",
    "            if word and word not in stop_words:\n",
    "                word = porter.stem(word)\n",
    "                if word not in freq_dict:\n",
    "                    current_block += 1\n",
    "                if not freq_dict[word].__contains__(id):\n",
    "                    freq_dict[word].update({id:word_count})\n",
    "                    current_block += 1  \n",
    "            if current_block >= BLOCK_SIZE:\n",
    "                sorted_list = sorted(freq_dict.items(), key=lambda k: k[0]) \n",
    "                with open(f'./PL/OP{total_files}.txt', 'w') as  f:\n",
    "                    for word_id, docs in sorted_list:\n",
    "                        f.write(word_id)\n",
    "                        for doc_id,tf in docs.items():\n",
    "                            f.write(f'->{doc_id,tf}')\n",
    "                        f.write('\\n')    \n",
    "                current_block = 0\n",
    "                freq_dict.clear()\n",
    "                total_files += 1\n",
    "                print(i, ' rows done')\n",
    "      \n",
    "    sorted_list = sorted(freq_dict.items(), key=lambda _: _[0]) \n",
    "    if len(sorted_list) > 0:\n",
    "        with open(f'./PL/OP{total_files}.txt', 'w') as  f:\n",
    "            for word_id, docs in sorted_list:\n",
    "                f.write(word_id)\n",
    "                for doc_id,tf in docs.items():\n",
    "                    f.write(f'->{doc_id,tf}')\n",
    "                f.write('\\n')\n",
    "        current_block = 0\n",
    "        freq_dict.clear()\n",
    "        total_files += 1\n",
    "    return [corpus_size,total_files]\n",
    "[corpus_size,file_count] = bsbi()"
   ]
  },
  {
   "cell_type": "code",
   "execution_count": 6,
   "id": "f41c1524",
   "metadata": {},
   "outputs": [],
   "source": [
    "file_names = [f'./PL/OP{i}.txt' for i in range(0,file_count)]\n",
    "file_pointers = [open(i) for i in file_names]"
   ]
  },
  {
   "cell_type": "code",
   "execution_count": 7,
   "id": "a9888e7b",
   "metadata": {},
   "outputs": [],
   "source": [
    "def decorated_file(f, key):\n",
    "    for line in f:\n",
    "        yield (key(line), line)\n",
    "\n",
    "files = map(open, file_names)\n",
    "outfile = open('./PL/merged.txt', 'w')\n",
    "\n",
    "def key_fn(line):\n",
    "    return line.split('->', 2)[0]\n",
    "\n",
    "prev = ''\n",
    "for line in heapq.merge(*[decorated_file(f, key_fn) for f in files]):\n",
    "    if prev != line[0]:\n",
    "        outfile.write(f'\\n{line[1].strip()}')\n",
    "        prev = line[0]\n",
    "    else:\n",
    "        outfile.write(f'{line[1][len(line[0]):].strip()}')\n",
    "\n",
    "for i in file_pointers:\n",
    "    i.close()\n",
    "outfile.close()"
   ]
  },
  {
   "cell_type": "code",
   "execution_count": 8,
   "id": "dcd7c77d",
   "metadata": {},
   "outputs": [],
   "source": [
    "import ast,math\n",
    "\n",
    "outfile = open('./PL/tfidf.txt', 'w')\n",
    "\n",
    "def tf_IDF():\n",
    "    N = corpus_size\n",
    "    file1 = open('./PL/merged.txt', 'r')\n",
    "    Lines = file1.readlines()\n",
    "    \n",
    "    count = 0\n",
    "    for line in Lines:\n",
    "        l = (line.strip()).split(\"->\")\n",
    "        word = l[0]\n",
    "        idf_word =(math.log((1+N)/(len(l[1:])+1)))+1\n",
    "        outfile.write(f'\\n{l[0].strip()}')\n",
    "        \n",
    "        for i in range(1,len(l)):\n",
    "            tuple_l = []\n",
    "            if len(l) > 1:\n",
    "                x = list(ast.literal_eval(l[i]))\n",
    "                x.append(x[1]*idf_word)\n",
    "                outfile.write(f'->{tuple(x)}')\n",
    "\n",
    "tf_IDF()"
   ]
  }
 ],
 "metadata": {
  "kernelspec": {
   "display_name": "Python 3",
   "language": "python",
   "name": "python3"
  },
  "language_info": {
   "codemirror_mode": {
    "name": "ipython",
    "version": 3
   },
   "file_extension": ".py",
   "mimetype": "text/x-python",
   "name": "python",
   "nbconvert_exporter": "python",
   "pygments_lexer": "ipython3",
   "version": "3.8.8"
  }
 },
 "nbformat": 4,
 "nbformat_minor": 5
}
